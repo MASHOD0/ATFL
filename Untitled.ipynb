{
 "cells": [
  {
   "cell_type": "code",
   "execution_count": null,
   "id": "a8b8e4e6",
   "metadata": {},
   "outputs": [],
   "source": [
    "!pip install automata-lib"
   ]
  },
  {
   "cell_type": "markdown",
   "id": "47953858",
   "metadata": {},
   "source": [
    "# DFA that accepts Even As and Even Numbers of B"
   ]
  },
  {
   "cell_type": "code",
   "execution_count": 9,
   "id": "29623ee3",
   "metadata": {},
   "outputs": [
    {
     "data": {
      "text/plain": [
       "'q0'"
      ]
     },
     "execution_count": 9,
     "metadata": {},
     "output_type": "execute_result"
    }
   ],
   "source": [
    "from automata.fa.dfa import DFA\n",
    "# Defining the DFA\n",
    "dfa = DFA(\n",
    "    states={'q0', 'q1', 'q2', 'q3'},\n",
    "    input_symbols={'A', 'B'},\n",
    "    transitions={\n",
    "        'q0':{'A' : 'q1', 'B' : 'q3'},\n",
    "        'q1':{'A' : 'q0', 'B' : 'q1'},\n",
    "        'q2':{'A' : 'q1', 'B' : 'q3'},\n",
    "        'q3':{'A' : 'q2', 'B' : 'q0'}\n",
    "    },\n",
    "    initial_state='q0',\n",
    "    final_states={'q0'})\n",
    "#dfa.read_input('AA')"
   ]
  },
  {
   "cell_type": "code",
   "execution_count": null,
   "id": "7d0605c7",
   "metadata": {},
   "outputs": [],
   "source": []
  },
  {
   "cell_type": "code",
   "execution_count": null,
   "id": "e50ec0e2",
   "metadata": {},
   "outputs": [],
   "source": []
  }
 ],
 "metadata": {
  "kernelspec": {
   "display_name": "Python 3 (ipykernel)",
   "language": "python",
   "name": "python3"
  },
  "language_info": {
   "codemirror_mode": {
    "name": "ipython",
    "version": 3
   },
   "file_extension": ".py",
   "mimetype": "text/x-python",
   "name": "python",
   "nbconvert_exporter": "python",
   "pygments_lexer": "ipython3",
   "version": "3.9.2"
  }
 },
 "nbformat": 4,
 "nbformat_minor": 5
}
