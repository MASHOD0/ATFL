{
 "cells": [
  {
   "cell_type": "code",
   "execution_count": null,
   "id": "01cbece3",
   "metadata": {},
   "outputs": [],
   "source": [
    "!pip install automata-lib"
   ]
  },
  {
   "cell_type": "markdown",
   "id": "6b52eeda",
   "metadata": {},
   "source": [
    "# DFA that accepts Even As and Even Numbers of B"
   ]
  },
  {
   "cell_type": "code",
   "execution_count": 11,
   "id": "0035de86",
   "metadata": {},
   "outputs": [
    {
     "name": "stdout",
     "output_type": "stream",
     "text": [
      "accepted\n"
     ]
    }
   ],
   "source": [
    "from automata.fa.dfa import DFA\n",
    "# Defining the DFA\n",
    "dfa = DFA(\n",
    "    states={'q0', 'q1', 'q2', 'q3'},\n",
    "    input_symbols={'A', 'B'},\n",
    "    transitions={\n",
    "        'q0':{'A' : 'q1', 'B' : 'q3'},\n",
    "        'q1':{'A' : 'q0', 'B' : 'q1'},\n",
    "        'q2':{'A' : 'q1', 'B' : 'q3'},\n",
    "        'q3':{'A' : 'q2', 'B' : 'q0'}\n",
    "    },\n",
    "    initial_state='q0',\n",
    "    final_states={'q0'})\n",
    "#dfa.read_input('AA')\n",
    "\n",
    "#Enter the string to check\n",
    "input_str = \"AA\"\n",
    "\n",
    "if dfa.accepts_input(input_str):\n",
    "    print('accepted')\n",
    "else:\n",
    "    print('rejected')\n"
   ]
  },
  {
   "cell_type": "code",
   "execution_count": null,
   "id": "91c075b5",
   "metadata": {},
   "outputs": [],
   "source": []
  },
  {
   "cell_type": "code",
   "execution_count": null,
   "id": "da699dd6",
   "metadata": {},
   "outputs": [],
   "source": []
  }
 ],
 "metadata": {
  "kernelspec": {
   "display_name": "Python 3 (ipykernel)",
   "language": "python",
   "name": "python3"
  },
  "language_info": {
   "codemirror_mode": {
    "name": "ipython",
    "version": 3
   },
   "file_extension": ".py",
   "mimetype": "text/x-python",
   "name": "python",
   "nbconvert_exporter": "python",
   "pygments_lexer": "ipython3",
   "version": "3.9.2"
  }
 },
 "nbformat": 4,
 "nbformat_minor": 5
}
