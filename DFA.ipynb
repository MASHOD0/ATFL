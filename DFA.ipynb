{
 "cells": [
  {
   "cell_type": "code",
   "execution_count": null,
   "id": "6682256a",
   "metadata": {},
   "outputs": [],
   "source": [
    "!pip install automata-lib"
   ]
  },
  {
   "cell_type": "markdown",
   "id": "a113d56f",
   "metadata": {},
   "source": [
    "# DFA that accepts Even As and Even Numbers of B"
   ]
  },
  {
   "cell_type": "code",
   "execution_count": 26,
   "id": "4f45c745",
   "metadata": {},
   "outputs": [
    {
     "name": "stdout",
     "output_type": "stream",
     "text": [
      "accepted\n"
     ]
    }
   ],
   "source": [
    "from automata.fa.dfa import DFA\n",
    "# Defining the DFA\n",
    "dfa = DFA(\n",
    "    states={'q0', 'q1', 'q2', 'q3'},\n",
    "    input_symbols={'A', 'B'},\n",
    "    transitions={\n",
    "        'q0':{'A' : 'q1', 'B' : 'q3'},\n",
    "        'q1':{'A' : 'q0', 'B' : 'q1'},\n",
    "        'q2':{'A' : 'q1', 'B' : 'q3'},\n",
    "        'q3':{'A' : 'q2', 'B' : 'q0'}\n",
    "    },\n",
    "    initial_state='q0',\n",
    "    final_states={'q0'})\n",
    "#dfa.read_input('AA')\n",
    "\n",
    "#Enter the string to check\n",
    "input_str=\"AABB\"\n",
    "\n",
    "if dfa.accepts_input(input_str):\n",
    "    print('accepted')\n",
    "else:\n",
    "    print('rejected')\n"
   ]
  },
  {
   "cell_type": "markdown",
   "id": "959ef837",
   "metadata": {},
   "source": [
    "# DFA that accepts Odd As and Odd Bs"
   ]
  },
  {
   "cell_type": "code",
   "execution_count": 11,
   "id": "e8bf1650",
   "metadata": {},
   "outputs": [
    {
     "name": "stdout",
     "output_type": "stream",
     "text": [
      "accepted\n"
     ]
    }
   ],
   "source": [
    "from automata.fa.dfa import DFA\n",
    "# Defining the DFA\n",
    "dfa = DFA(\n",
    "    states={'q0', 'q1', 'q2', 'q3'},\n",
    "    input_symbols={'A', 'B'},\n",
    "    transitions={\n",
    "        'q0':{'A' : 'q1', 'B' : 'q3'},\n",
    "        'q1':{'A' : 'q0', 'B' : 'q1'},\n",
    "        'q2':{'A' : 'q1', 'B' : 'q3'},\n",
    "        'q3':{'A' : 'q2', 'B' : 'q0'}\n",
    "    },\n",
    "    initial_state='q0',\n",
    "    final_states={'q1', 'q2', 'q3'}\n",
    "    )\n",
    "#dfa.read_input('A')\n",
    "\n",
    "#Enter the string to check\n",
    "input_str=\"AB\"\n",
    "\n",
    "if dfa.accepts_input(input_str):\n",
    "    print('accepted')\n",
    "else:\n",
    "    print('rejected')\n"
   ]
  },
  {
   "cell_type": "markdown",
   "id": "3a4317a2",
   "metadata": {},
   "source": [
    "# DFA to accept exactly 1 A"
   ]
  },
  {
   "cell_type": "code",
   "execution_count": 27,
   "id": "6616768d",
   "metadata": {},
   "outputs": [
    {
     "name": "stdout",
     "output_type": "stream",
     "text": [
      "accepted\n"
     ]
    }
   ],
   "source": [
    "input_str=\"ABB\"\n",
    "state = 0 #starts at state 0\n",
    "\n",
    "\n",
    "\n",
    "while input_str != '':\n",
    "    \n",
    "    # If the automaton is at state 0\n",
    "    if state == 0 and input_str[-1] == 'A':\n",
    "        state = 1\n",
    "        input_str = input_str[:-1]\n",
    "    \n",
    "    elif state == 0 and input_str[-1] == 'B':\n",
    "        input_str = input_str[:-1]\n",
    "        \n",
    "    # If the automaton is at state 1   \n",
    "    elif state == 1 and input_str[-1] == 'A':\n",
    "        state = 2\n",
    "        input_str = input_str[:-1]\n",
    "        \n",
    "    elif state == 1 and input_str[-1] == 'B':\n",
    "        input_str = input_str[:-1]\n",
    "        \n",
    "    # If the automaton is at state 2 i.e., dead state\n",
    "    elif state == 2 and input_str[-1] == 'A':\n",
    "        input_str = input_str[:-1]\n",
    "        \n",
    "    elif state == 2 and input_str[-1] == 'A':\n",
    "        input_str = input_str[:-1]\n",
    "    \n",
    "if state == 1:\n",
    "    print(\"accepted\") # if the automaton is in the final state\n",
    "else:\n",
    "    print(\"rejected\") # if the automaton is not in the final state\n",
    "\n",
    "    \n",
    "    "
   ]
  },
  {
   "cell_type": "code",
   "execution_count": null,
   "id": "42998d8a",
   "metadata": {},
   "outputs": [],
   "source": []
  },
  {
   "cell_type": "code",
   "execution_count": null,
   "id": "a84b1620",
   "metadata": {},
   "outputs": [],
   "source": []
  }
 ],
 "metadata": {
  "kernelspec": {
   "display_name": "Python 3 (ipykernel)",
   "language": "python",
   "name": "python3"
  },
  "language_info": {
   "codemirror_mode": {
    "name": "ipython",
    "version": 3
   },
   "file_extension": ".py",
   "mimetype": "text/x-python",
   "name": "python",
   "nbconvert_exporter": "python",
   "pygments_lexer": "ipython3",
   "version": "3.9.2"
  }
 },
 "nbformat": 4,
 "nbformat_minor": 5
}
