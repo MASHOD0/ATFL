{
 "cells": [
  {
   "cell_type": "code",
   "execution_count": null,
   "id": "6682256a",
   "metadata": {},
   "outputs": [],
   "source": [
    "!pip install automata-lib"
   ]
  },
  {
   "cell_type": "markdown",
   "id": "a113d56f",
   "metadata": {},
   "source": [
    "# DFA that accepts Even As and Even Numbers of B"
   ]
  },
  {
   "cell_type": "code",
   "execution_count": 26,
   "id": "4f45c745",
   "metadata": {},
   "outputs": [
    {
     "name": "stdout",
     "output_type": "stream",
     "text": [
      "accepted\n"
     ]
    }
   ],
   "source": [
    "from automata.fa.dfa import DFA\n",
    "# Defining the DFA\n",
    "dfa = DFA(\n",
    "    states={'q0', 'q1', 'q2', 'q3'},\n",
    "    input_symbols={'A', 'B'},\n",
    "    transitions={\n",
    "        'q0':{'A' : 'q1', 'B' : 'q3'},\n",
    "        'q1':{'A' : 'q0', 'B' : 'q1'},\n",
    "        'q2':{'A' : 'q1', 'B' : 'q3'},\n",
    "        'q3':{'A' : 'q2', 'B' : 'q0'}\n",
    "    },\n",
    "    initial_state='q0',\n",
    "    final_states={'q0'})\n",
    "#dfa.read_input('AA')\n",
    "\n",
    "#Enter the string to check\n",
    "input_str=\"AABB\"\n",
    "\n",
    "if dfa.accepts_input(input_str):\n",
    "    print('accepted')\n",
    "else:\n",
    "    print('rejected')\n"
   ]
  },
  {
   "cell_type": "markdown",
   "id": "34390449",
   "metadata": {},
   "source": [
    "# DFA that accepts Odd As and Odd Bs"
   ]
  },
  {
   "cell_type": "code",
   "execution_count": 11,
   "id": "e8bf1650",
   "metadata": {},
   "outputs": [
    {
     "name": "stdout",
     "output_type": "stream",
     "text": [
      "accepted\n"
     ]
    }
   ],
   "source": [
    "from automata.fa.dfa import DFA\n",
    "# Defining the DFA\n",
    "dfa = DFA(\n",
    "    states={'q0', 'q1', 'q2', 'q3'},\n",
    "    input_symbols={'A', 'B'},\n",
    "    transitions={\n",
    "        'q0':{'A' : 'q1', 'B' : 'q3'},\n",
    "        'q1':{'A' : 'q0', 'B' : 'q1'},\n",
    "        'q2':{'A' : 'q1', 'B' : 'q3'},\n",
    "        'q3':{'A' : 'q2', 'B' : 'q0'}\n",
    "    },\n",
    "    initial_state='q0',\n",
    "    final_states={'q1', 'q2', 'q3'}\n",
    "    )\n",
    "#dfa.read_input('A')\n",
    "\n",
    "#Enter the string to check\n",
    "input_str=\"AB\"\n",
    "\n",
    "if dfa.accepts_input(input_str):\n",
    "    print('accepted')\n",
    "else:\n",
    "    print('rejected')\n"
   ]
  },
  {
   "cell_type": "markdown",
   "id": "4f44b391",
   "metadata": {},
   "source": [
    "# DFA to accept exactly 1 A"
   ]
  },
  {
   "cell_type": "code",
   "execution_count": 28,
   "id": "b1176f83",
   "metadata": {},
   "outputs": [
    {
     "ename": "SyntaxError",
     "evalue": "invalid syntax (Temp/ipykernel_15468/3489923974.py, line 4)",
     "output_type": "error",
     "traceback": [
      "\u001b[1;36m  File \u001b[1;32m\"C:\\Users\\mashh\\AppData\\Local\\Temp/ipykernel_15468/3489923974.py\"\u001b[1;36m, line \u001b[1;32m4\u001b[0m\n\u001b[1;33m    for i in range(len(input_str)): if input_str[i] not in {'A', 'B'}: valid = False\u001b[0m\n\u001b[1;37m                                    ^\u001b[0m\n\u001b[1;31mSyntaxError\u001b[0m\u001b[1;31m:\u001b[0m invalid syntax\n"
     ]
    }
   ],
   "source": [
    "input_str=\"ABB\"\n",
    "state = 0 #starts at state 0\n",
    "valid = True\n",
    "for i in range(len(input_str)): \n",
    "    if input_str[i] not in {'A', 'B'}: \n",
    "        valid = False\n",
    "while input_str != '' and valid:\n",
    "    \n",
    "    # If the automaton is at state 0 i.e., inital state\n",
    "    if state == 0 and input_str[-1] == 'A':\n",
    "        state = 1\n",
    "        input_str = input_str[:-1]\n",
    "    \n",
    "    elif state == 0 and input_str[-1] == 'B':\n",
    "        input_str = input_str[:-1]\n",
    "        \n",
    "    # If the automaton is at state 1 i.e., final state\n",
    "    elif state == 1 and input_str[-1] == 'A':\n",
    "        state = 2\n",
    "        input_str = input_str[:-1]\n",
    "        \n",
    "    elif state == 1 and input_str[-1] == 'B':\n",
    "        input_str = input_str[:-1]\n",
    "        \n",
    "    # If the automaton is at state 2 i.e., dead state\n",
    "    elif state == 2 and input_str[-1] == 'A':\n",
    "        input_str = input_str[:-1]\n",
    "        \n",
    "    elif state == 2 and input_str[-1] == 'A':\n",
    "        input_str = input_str[:-1]\n",
    "    \n",
    "if state == 1:\n",
    "    print(\"accepted\") # if the automaton is in the final state\n",
    "else:\n",
    "    print(\"rejected\") # if the automaton is not in the final state\n",
    "\n",
    "    \n",
    "    "
   ]
  },
  {
   "cell_type": "code",
   "execution_count": null,
   "id": "c8e720f4",
   "metadata": {},
   "outputs": [],
   "source": []
  },
  {
   "cell_type": "code",
   "execution_count": null,
   "id": "cd63085c",
   "metadata": {},
   "outputs": [],
   "source": []
  }
 ],
 "metadata": {
  "kernelspec": {
   "display_name": "Python 3 (ipykernel)",
   "language": "python",
   "name": "python3"
  },
  "language_info": {
   "codemirror_mode": {
    "name": "ipython",
    "version": 3
   },
   "file_extension": ".py",
   "mimetype": "text/x-python",
   "name": "python",
   "nbconvert_exporter": "python",
   "pygments_lexer": "ipython3",
   "version": "3.9.2"
  }
 },
 "nbformat": 4,
 "nbformat_minor": 5
}
